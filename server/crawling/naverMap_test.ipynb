{
 "cells": [
  {
   "cell_type": "code",
   "execution_count": null,
   "metadata": {},
   "outputs": [],
   "source": [
    "!pip3 install selenium\n",
    "!pip3 install chromedriver_autoinstaller\n",
    "!pip3 install BeautifulSoup4"
   ]
  },
  {
   "cell_type": "code",
   "execution_count": null,
   "metadata": {},
   "outputs": [],
   "source": [
    "import os\n",
    "import time\n",
    "import sys  \n",
    "\n",
    "from selenium import webdriver \n",
    "from bs4 import BeautifulSoup\n",
    "import chromedriver_autoinstaller\n",
    "from selenium.webdriver.common.keys import Keys\n",
    "from selenium.webdriver.common.action_chains import ActionChains\n",
    "\n",
    "import warnings\n",
    "warnings.filterwarnings('ignore')\n",
    "\n",
    "from selenium.common.exceptions import ElementNotInteractableException\n",
    "from selenium.common.exceptions import NoSuchElementException\n",
    "from selenium.webdriver.common.keys import Keys"
   ]
  },
  {
   "cell_type": "code",
   "execution_count": null,
   "metadata": {},
   "outputs": [],
   "source": [
    "# 검색어 입력 \n",
    "query = '성동구 복지센터'"
   ]
  },
  {
   "cell_type": "code",
   "execution_count": null,
   "metadata": {},
   "outputs": [],
   "source": [
    "#chromedriver 연결\n",
    "driver = webdriver.Chrome(\"./chromedriver\")\n",
    "driver.get(f\"https://map.naver.com/v5/search/{query}?c=14203933.7141038,4562681.4505997,10,0,0,0,dh\")"
   ]
  },
  {
   "cell_type": "code",
   "execution_count": null,
   "metadata": {},
   "outputs": [],
   "source": [
    "#iframe 접근\n",
    "driver.switch_to.frame(\"searchIframe\")"
   ]
  },
  {
   "cell_type": "code",
   "execution_count": null,
   "metadata": {},
   "outputs": [],
   "source": [
    "#처음 - 자료 60개 \n",
    "\n",
    "name_list = []\n",
    "addr_list = []\n",
    "\n",
    "try: \n",
    "    for i in range(1,7): \n",
    "        driver.find_element_by_link_text(str(i)).click()\n",
    "        try: \n",
    "            for j in range(3,70,3):\n",
    "                element = driver.find_elements_by_css_selector(\"._3Apve\")[j] #_2s4DU - 성동구 복지센터\n",
    "                ActionChains(driver).move_to_element(element).key_down(Keys.PAGE_DOWN).key_up(Keys.PAGE_DOWN).perform()\n",
    "        except:\n",
    "            pass\n",
    "\n",
    "        title_raw = driver.find_elements_by_css_selector(\"._3Apve\") \n",
    "        for title in title_raw:\n",
    "            title = title.text\n",
    "            name_list.append(title)\n",
    "\n",
    "        # 평점 등 데이터\n",
    "        data_raw = driver.find_elements_by_css_selector('._2Po-x') #_1h3B #1vSpB \n",
    "        #_2Po-x : 동까지 나옴\n",
    "        #_3ZU00 : 상호명 중복\n",
    "        #_3ZU00._1rBq3 : 개수가 안 맞음\n",
    "        #_3LMxZ : 두배로 나옴\n",
    "        #_2yqUQ : 안 나옴\n",
    "        for data in data_raw: \n",
    "            data = data.text\n",
    "            addr_list.append(data)\n",
    "        \n",
    "except:\n",
    "    pass\n",
    "\n",
    "\n",
    "print(len(name_list),len(addr_list))"
   ]
  },
  {
   "cell_type": "code",
   "execution_count": null,
   "metadata": {},
   "outputs": [],
   "source": [
    "#print(name_list)\n",
    "#print(addr_list)"
   ]
  },
  {
   "cell_type": "code",
   "execution_count": null,
   "metadata": {},
   "outputs": [],
   "source": [
    "## 데이터 프레임 만들기\n",
    "df = pd.DataFrame({'name':name_list, 'address':addr_list})\n",
    "#df = pd.DataFrame({'title':title_list})\n",
    "df[:20]"
   ]
  },
  {
   "cell_type": "code",
   "execution_count": null,
   "metadata": {},
   "outputs": [],
   "source": [
    "df['address'][10:16]"
   ]
  },
  {
   "cell_type": "code",
   "execution_count": null,
   "metadata": {},
   "outputs": [],
   "source": [
    "#csv로 저장\n",
    "df.to_csv('location1.csv')"
   ]
  }
 ],
 "metadata": {
  "kernelspec": {
   "display_name": "Python 3.9.0 64-bit",
   "language": "python",
   "name": "python3"
  },
  "language_info": {
   "codemirror_mode": {
    "name": "ipython",
    "version": 3
   },
   "file_extension": ".py",
   "mimetype": "text/x-python",
   "name": "python",
   "nbconvert_exporter": "python",
   "pygments_lexer": "ipython3",
   "version": "3.9.0"
  },
  "vscode": {
   "interpreter": {
    "hash": "aee8b7b246df8f9039afb4144a1f6fd8d2ca17a180786b69acc140d282b71a49"
   }
  }
 },
 "nbformat": 4,
 "nbformat_minor": 4
}
