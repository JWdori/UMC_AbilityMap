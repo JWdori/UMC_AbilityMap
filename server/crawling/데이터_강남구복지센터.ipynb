{
 "cells": [
  {
   "cell_type": "code",
   "execution_count": 1,
   "metadata": {},
   "outputs": [
    {
     "name": "stdout",
     "output_type": "stream",
     "text": [
      "Requirement already satisfied: selenium in /Users/jinnan_yun/opt/anaconda3/envs/mip2021/lib/python3.6/site-packages (3.141.0)\n",
      "Requirement already satisfied: urllib3 in /Users/jinnan_yun/opt/anaconda3/envs/mip2021/lib/python3.6/site-packages (from selenium) (1.26.6)\n",
      "Requirement already satisfied: chromedriver_autoinstaller in /Users/jinnan_yun/opt/anaconda3/envs/mip2021/lib/python3.6/site-packages (0.3.1)\n",
      "Requirement already satisfied: BeautifulSoup4 in /Users/jinnan_yun/opt/anaconda3/envs/mip2021/lib/python3.6/site-packages (4.11.1)\n",
      "Requirement already satisfied: soupsieve>1.2 in /Users/jinnan_yun/opt/anaconda3/envs/mip2021/lib/python3.6/site-packages (from BeautifulSoup4) (2.3.2.post1)\n"
     ]
    }
   ],
   "source": [
    "!pip3 install selenium\n",
    "!pip3 install chromedriver_autoinstaller\n",
    "!pip3 install BeautifulSoup4"
   ]
  },
  {
   "cell_type": "code",
   "execution_count": 2,
   "metadata": {},
   "outputs": [],
   "source": [
    "import os\n",
    "import time\n",
    "import sys  \n",
    "\n",
    "from selenium import webdriver \n",
    "from bs4 import BeautifulSoup\n",
    "import chromedriver_autoinstaller\n",
    "from selenium.webdriver.common.keys import Keys\n",
    "from selenium.webdriver.common.action_chains import ActionChains\n",
    "\n",
    "import warnings\n",
    "warnings.filterwarnings('ignore')\n",
    "\n",
    "from selenium.common.exceptions import ElementNotInteractableException\n",
    "from selenium.common.exceptions import NoSuchElementException\n",
    "from selenium.webdriver.common.keys import Keys"
   ]
  },
  {
   "cell_type": "code",
   "execution_count": 3,
   "metadata": {},
   "outputs": [],
   "source": [
    "#검색어 입력 \n",
    "query = '강남구 복지센터'"
   ]
  },
  {
   "cell_type": "code",
   "execution_count": 4,
   "metadata": {},
   "outputs": [],
   "source": [
    "#chromedriver 연결\n",
    "driver = webdriver.Chrome(\"./chromedriver\")\n",
    "driver.get(f\"https://map.naver.com/v5/search/{query}?c=14203933.7141038,4562681.4505997,10,0,0,0,dh\")"
   ]
  },
  {
   "cell_type": "code",
   "execution_count": 5,
   "metadata": {},
   "outputs": [],
   "source": [
    "driver.switch_to.frame(\"searchIframe\")"
   ]
  },
  {
   "cell_type": "code",
   "execution_count": 6,
   "metadata": {},
   "outputs": [
    {
     "name": "stdout",
     "output_type": "stream",
     "text": [
      "120 120 120\n"
     ]
    }
   ],
   "source": [
    "name_list = []\n",
    "addr_list = []\n",
    "info_list = []\n",
    "\n",
    "try: \n",
    "    for i in range(1,7): \n",
    "        driver.find_element_by_link_text(str(i)).click()\n",
    "        try: \n",
    "            for j in range(3,70,3):\n",
    "                element = driver.find_elements_by_css_selector(\"._3Apve\")[j]\n",
    "                ActionChains(driver).move_to_element(element).key_down(Keys.PAGE_DOWN).key_up(Keys.PAGE_DOWN).perform()\n",
    "        except:\n",
    "            pass\n",
    "\n",
    "        title_raw = driver.find_elements_by_css_selector(\"._3Apve\") \n",
    "        for title in title_raw:\n",
    "            title = title.text\n",
    "            name_list.append(title)\n",
    "\n",
    "        data_raw = driver.find_elements_by_css_selector('._2Po-x') \n",
    "        for data in data_raw: \n",
    "            data = data.text\n",
    "            addr_list.append(data)\n",
    "            \n",
    "        data2_raw = driver.find_elements_by_css_selector('._3B6hV')\n",
    "        for data2 in data2_raw:\n",
    "            data2 = data2.text\n",
    "            info_list.append(data2)\n",
    "        \n",
    "except:\n",
    "    pass\n",
    "\n",
    "\n",
    "print(len(name_list),len(addr_list), len(info_list))"
   ]
  },
  {
   "cell_type": "code",
   "execution_count": 7,
   "metadata": {},
   "outputs": [
    {
     "name": "stdout",
     "output_type": "stream",
     "text": [
      "Requirement already satisfied: openpyxl in /Users/jinnan_yun/opt/anaconda3/envs/mip2021/lib/python3.6/site-packages (3.0.10)\r\n",
      "Requirement already satisfied: et-xmlfile in /Users/jinnan_yun/opt/anaconda3/envs/mip2021/lib/python3.6/site-packages (from openpyxl) (1.1.0)\r\n"
     ]
    }
   ],
   "source": [
    "!pip3 install openpyxl\n",
    "\n",
    "import pandas as pd"
   ]
  },
  {
   "cell_type": "code",
   "execution_count": 14,
   "metadata": {},
   "outputs": [],
   "source": [
    "## 데이터 프레임 만들기\n",
    "df = pd.DataFrame({'name':name_list, 'address':addr_list, 'info':info_list})\n",
    "df1 = df[20:35]\n",
    "df2 = df[40:50]\n",
    "df3 = df[70:75]\n",
    "\n",
    "#print(df1)\n",
    "#print(df2)\n",
    "#print(df3)"
   ]
  },
  {
   "cell_type": "code",
   "execution_count": 15,
   "metadata": {},
   "outputs": [],
   "source": [
    "import openpyxl\n",
    "\n",
    "강남구 = pd.concat([df1,df2,df3])\n",
    "#print(동대문구)\n",
    "강남구.to_excel('강남구_복지센터.xlsx')"
   ]
  }
 ],
 "metadata": {
  "kernelspec": {
   "display_name": "Python 3",
   "language": "python",
   "name": "python3"
  },
  "language_info": {
   "codemirror_mode": {
    "name": "ipython",
    "version": 3
   },
   "file_extension": ".py",
   "mimetype": "text/x-python",
   "name": "python",
   "nbconvert_exporter": "python",
   "pygments_lexer": "ipython3",
   "version": "3.6.13"
  }
 },
 "nbformat": 4,
 "nbformat_minor": 4
}
