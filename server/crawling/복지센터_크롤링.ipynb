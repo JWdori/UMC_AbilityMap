{
 "cells": [
  {
   "cell_type": "code",
   "execution_count": 59,
   "metadata": {},
   "outputs": [
    {
     "name": "stdout",
     "output_type": "stream",
     "text": [
      "Requirement already satisfied: selenium in /Users/jinnan_yun/opt/anaconda3/envs/mip2021/lib/python3.6/site-packages (3.141.0)\n",
      "Requirement already satisfied: urllib3 in /Users/jinnan_yun/opt/anaconda3/envs/mip2021/lib/python3.6/site-packages (from selenium) (1.26.6)\n",
      "Requirement already satisfied: chromedriver_autoinstaller in /Users/jinnan_yun/opt/anaconda3/envs/mip2021/lib/python3.6/site-packages (0.3.1)\n",
      "Requirement already satisfied: BeautifulSoup4 in /Users/jinnan_yun/opt/anaconda3/envs/mip2021/lib/python3.6/site-packages (4.11.1)\n",
      "Requirement already satisfied: soupsieve>1.2 in /Users/jinnan_yun/opt/anaconda3/envs/mip2021/lib/python3.6/site-packages (from BeautifulSoup4) (2.3.2.post1)\n"
     ]
    }
   ],
   "source": [
    "!pip3 install selenium\n",
    "!pip3 install chromedriver_autoinstaller\n",
    "!pip3 install BeautifulSoup4"
   ]
  },
  {
   "cell_type": "code",
   "execution_count": 60,
   "metadata": {},
   "outputs": [],
   "source": [
    "import os\n",
    "import time\n",
    "import sys  \n",
    "\n",
    "from selenium import webdriver \n",
    "from bs4 import BeautifulSoup\n",
    "import chromedriver_autoinstaller\n",
    "from selenium.webdriver.common.keys import Keys\n",
    "from selenium.webdriver.common.action_chains import ActionChains\n",
    "\n",
    "import warnings\n",
    "warnings.filterwarnings('ignore')\n",
    "\n",
    "from selenium.common.exceptions import ElementNotInteractableException\n",
    "from selenium.common.exceptions import NoSuchElementException\n",
    "from selenium.webdriver.common.keys import Keys"
   ]
  },
  {
   "cell_type": "code",
   "execution_count": 66,
   "metadata": {},
   "outputs": [],
   "source": [
    "#검색어 입력 \n",
    "query = '성동구 복지센터'"
   ]
  },
  {
   "cell_type": "code",
   "execution_count": 67,
   "metadata": {},
   "outputs": [],
   "source": [
    "#chromedriver 연결\n",
    "driver = webdriver.Chrome(\"./chromedriver\")\n",
    "driver.get(f\"https://map.naver.com/v5/search/{query}?c=14203933.7141038,4562681.4505997,10,0,0,0,dh\")"
   ]
  },
  {
   "cell_type": "code",
   "execution_count": 63,
   "metadata": {},
   "outputs": [],
   "source": [
    "driver.switch_to.frame(\"searchIframe\")"
   ]
  },
  {
   "cell_type": "code",
   "execution_count": 64,
   "metadata": {},
   "outputs": [
    {
     "name": "stdout",
     "output_type": "stream",
     "text": [
      "0 0\n"
     ]
    }
   ],
   "source": [
    "name_list = []\n",
    "addr_list = []\n",
    "\n",
    "try: \n",
    "    for i in range(1,7): \n",
    "        driver.find_element_by_link_text(str(i)).click()\n",
    "        try: \n",
    "            for j in range(3,70,3):\n",
    "                element = driver.find_elements_by_css_selector(\"._3Apve\")[j] #_2s4DU - 성동구 복지센터\n",
    "                ActionChains(driver).move_to_element(element).key_down(Keys.PAGE_DOWN).key_up(Keys.PAGE_DOWN).perform()\n",
    "        except:\n",
    "            pass\n",
    "\n",
    "        title_raw = driver.find_elements_by_css_selector(\"._3Apve\") \n",
    "        for title in title_raw:\n",
    "            title = title.text\n",
    "            name_list.append(title)\n",
    "\n",
    "        # 평점 등 데이터\n",
    "        data_raw = driver.find_elements_by_css_selector('._2Po-x') #_1h3B #1vSpB \n",
    "        #_2Po-x : 동까지 나옴\n",
    "        #_3ZU00 : 상호명 중복\n",
    "        #_3ZU00._1rBq3 : 개수가 안 맞음\n",
    "        #_3LMxZ : 두배로 나옴\n",
    "        #_2yqUQ : 안 나옴\n",
    "        for data in data_raw: \n",
    "            data = data.text\n",
    "            addr_list.append(data)\n",
    "        \n",
    "except:\n",
    "    pass\n",
    "\n",
    "\n",
    "print(len(name_list),len(addr_list))"
   ]
  },
  {
   "cell_type": "code",
   "execution_count": 51,
   "metadata": {},
   "outputs": [
    {
     "name": "stdout",
     "output_type": "stream",
     "text": [
      "Collecting openpyxl\n",
      "  Downloading openpyxl-3.0.10-py2.py3-none-any.whl (242 kB)\n",
      "\u001b[K     |████████████████████████████████| 242 kB 8.6 MB/s eta 0:00:01\n",
      "\u001b[?25hCollecting et-xmlfile\n",
      "  Downloading et_xmlfile-1.1.0-py3-none-any.whl (4.7 kB)\n",
      "Installing collected packages: et-xmlfile, openpyxl\n",
      "Successfully installed et-xmlfile-1.1.0 openpyxl-3.0.10\n"
     ]
    }
   ],
   "source": [
    "#print(name_list)\n",
    "#print(addr_list)\n",
    "!pip3 install openpyxl\n",
    "\n",
    "import pandas as pd"
   ]
  },
  {
   "cell_type": "code",
   "execution_count": 52,
   "metadata": {},
   "outputs": [
    {
     "data": {
      "text/html": [
       "<div>\n",
       "<style scoped>\n",
       "    .dataframe tbody tr th:only-of-type {\n",
       "        vertical-align: middle;\n",
       "    }\n",
       "\n",
       "    .dataframe tbody tr th {\n",
       "        vertical-align: top;\n",
       "    }\n",
       "\n",
       "    .dataframe thead th {\n",
       "        text-align: right;\n",
       "    }\n",
       "</style>\n",
       "<table border=\"1\" class=\"dataframe\">\n",
       "  <thead>\n",
       "    <tr style=\"text-align: right;\">\n",
       "      <th></th>\n",
       "      <th>name</th>\n",
       "      <th>address</th>\n",
       "    </tr>\n",
       "  </thead>\n",
       "  <tbody>\n",
       "    <tr>\n",
       "      <th>0</th>\n",
       "      <td>왕십리도선동노인복지센터</td>\n",
       "      <td>서울 성동구 상왕십리동</td>\n",
       "    </tr>\n",
       "    <tr>\n",
       "      <th>1</th>\n",
       "      <td>구립성수1가2동노인복지센터</td>\n",
       "      <td>서울 성동구 성수동1가</td>\n",
       "    </tr>\n",
       "    <tr>\n",
       "      <th>2</th>\n",
       "      <td>성동구립사근동노인복지센터</td>\n",
       "      <td>서울 성동구 사근동</td>\n",
       "    </tr>\n",
       "    <tr>\n",
       "      <th>3</th>\n",
       "      <td>성동건강복지센터</td>\n",
       "      <td>서울 성동구 성수1가1동</td>\n",
       "    </tr>\n",
       "    <tr>\n",
       "      <th>4</th>\n",
       "      <td>성동50플러스센터</td>\n",
       "      <td>서울 성동구 행당동</td>\n",
       "    </tr>\n",
       "    <tr>\n",
       "      <th>5</th>\n",
       "      <td>금호무지개노인복지센터</td>\n",
       "      <td>서울 성동구 금호동2가</td>\n",
       "    </tr>\n",
       "    <tr>\n",
       "      <th>6</th>\n",
       "      <td>왕십리도선동노인복지센터 병설 데이케어센터</td>\n",
       "      <td>서울 성동구 상왕십리동</td>\n",
       "    </tr>\n",
       "    <tr>\n",
       "      <th>7</th>\n",
       "      <td>다정노인복지센터</td>\n",
       "      <td>서울 성동구 용답동</td>\n",
       "    </tr>\n",
       "    <tr>\n",
       "      <th>8</th>\n",
       "      <td>성동여성인력개발센터</td>\n",
       "      <td>서울 성동구 성수동2가</td>\n",
       "    </tr>\n",
       "    <tr>\n",
       "      <th>9</th>\n",
       "      <td>성동교육복지센터</td>\n",
       "      <td>서울 성동구 마장동</td>\n",
       "    </tr>\n",
       "    <tr>\n",
       "      <th>10</th>\n",
       "      <td>로뎀복지센터</td>\n",
       "      <td>서울 성동구 송정동</td>\n",
       "    </tr>\n",
       "    <tr>\n",
       "      <th>11</th>\n",
       "      <td>성동근로자복지센터</td>\n",
       "      <td>서울 성동구 성수동1가</td>\n",
       "    </tr>\n",
       "    <tr>\n",
       "      <th>12</th>\n",
       "      <td>성동지역아동복지센터</td>\n",
       "      <td>서울 성동구 하왕십리동</td>\n",
       "    </tr>\n",
       "    <tr>\n",
       "      <th>13</th>\n",
       "      <td>성동구가족센터</td>\n",
       "      <td>서울 성동구 홍익동</td>\n",
       "    </tr>\n",
       "    <tr>\n",
       "      <th>14</th>\n",
       "      <td>구립성수1가2동노인복지센터 대현분소</td>\n",
       "      <td>서울 성동구 금호동1가</td>\n",
       "    </tr>\n",
       "    <tr>\n",
       "      <th>15</th>\n",
       "      <td>바라지 재가노인복지센터</td>\n",
       "      <td>서울 성동구 금호동1가</td>\n",
       "    </tr>\n",
       "    <tr>\n",
       "      <th>16</th>\n",
       "      <td>성동노인복지센터</td>\n",
       "      <td>서울 성동구 금호동3가</td>\n",
       "    </tr>\n",
       "    <tr>\n",
       "      <th>17</th>\n",
       "      <td>성수복지관아이꿈누리터</td>\n",
       "      <td>서울 성동구 성수동1가</td>\n",
       "    </tr>\n",
       "    <tr>\n",
       "      <th>18</th>\n",
       "      <td>사랑드림재가복지센터</td>\n",
       "      <td>서울 성동구 금호동4가</td>\n",
       "    </tr>\n",
       "    <tr>\n",
       "      <th>19</th>\n",
       "      <td>사랑재가노인복지센터</td>\n",
       "      <td>서울 성동구 행당동</td>\n",
       "    </tr>\n",
       "  </tbody>\n",
       "</table>\n",
       "</div>"
      ],
      "text/plain": [
       "                      name        address\n",
       "0             왕십리도선동노인복지센터   서울 성동구 상왕십리동\n",
       "1           구립성수1가2동노인복지센터   서울 성동구 성수동1가\n",
       "2            성동구립사근동노인복지센터     서울 성동구 사근동\n",
       "3                 성동건강복지센터  서울 성동구 성수1가1동\n",
       "4                성동50플러스센터     서울 성동구 행당동\n",
       "5              금호무지개노인복지센터   서울 성동구 금호동2가\n",
       "6   왕십리도선동노인복지센터 병설 데이케어센터   서울 성동구 상왕십리동\n",
       "7                 다정노인복지센터     서울 성동구 용답동\n",
       "8               성동여성인력개발센터   서울 성동구 성수동2가\n",
       "9                 성동교육복지센터     서울 성동구 마장동\n",
       "10                  로뎀복지센터     서울 성동구 송정동\n",
       "11               성동근로자복지센터   서울 성동구 성수동1가\n",
       "12              성동지역아동복지센터   서울 성동구 하왕십리동\n",
       "13                 성동구가족센터     서울 성동구 홍익동\n",
       "14     구립성수1가2동노인복지센터 대현분소   서울 성동구 금호동1가\n",
       "15            바라지 재가노인복지센터   서울 성동구 금호동1가\n",
       "16                성동노인복지센터   서울 성동구 금호동3가\n",
       "17             성수복지관아이꿈누리터   서울 성동구 성수동1가\n",
       "18              사랑드림재가복지센터   서울 성동구 금호동4가\n",
       "19              사랑재가노인복지센터     서울 성동구 행당동"
      ]
     },
     "execution_count": 52,
     "metadata": {},
     "output_type": "execute_result"
    }
   ],
   "source": [
    "## 데이터 프레임 만들기\n",
    "df = pd.DataFrame({'name':name_list, 'address':addr_list})\n",
    "#df = pd.DataFrame({'title':title_list})\n",
    "df[:20]"
   ]
  },
  {
   "cell_type": "code",
   "execution_count": 53,
   "metadata": {},
   "outputs": [
    {
     "data": {
      "text/plain": [
       "10      서울 성동구 송정동\n",
       "11    서울 성동구 성수동1가\n",
       "12    서울 성동구 하왕십리동\n",
       "13      서울 성동구 홍익동\n",
       "14    서울 성동구 금호동1가\n",
       "15    서울 성동구 금호동1가\n",
       "Name: address, dtype: object"
      ]
     },
     "execution_count": 53,
     "metadata": {},
     "output_type": "execute_result"
    }
   ],
   "source": [
    "df['address'][10:16]"
   ]
  },
  {
   "cell_type": "code",
   "execution_count": 54,
   "metadata": {},
   "outputs": [],
   "source": [
    "#csv로 저장\n",
    "import openpyxl\n",
    "\n",
    "df.to_excel('location1_복지센터.xlsx')"
   ]
  },
  {
   "cell_type": "code",
   "execution_count": 42,
   "metadata": {},
   "outputs": [
    {
     "name": "stdout",
     "output_type": "stream",
     "text": [
      "[<selenium.webdriver.remote.webelement.WebElement (session=\"197943dfc716bc2e43df4af18ced98ed\", element=\"78e4a044-65ab-480f-86b4-6790c1d3a0d4\")>, <selenium.webdriver.remote.webelement.WebElement (session=\"197943dfc716bc2e43df4af18ced98ed\", element=\"657e8a98-f121-4976-84ca-b436388bafb7\")>, <selenium.webdriver.remote.webelement.WebElement (session=\"197943dfc716bc2e43df4af18ced98ed\", element=\"7a3edf14-7eba-4cb8-8093-0455fbf4f952\")>, <selenium.webdriver.remote.webelement.WebElement (session=\"197943dfc716bc2e43df4af18ced98ed\", element=\"e6032394-94dc-4365-96ec-19ed5612e0ff\")>]\n",
      "[<selenium.webdriver.remote.webelement.WebElement (session=\"197943dfc716bc2e43df4af18ced98ed\", element=\"93bf99e7-9c88-4f44-b7e1-a086a728a341\")>]\n",
      "[<selenium.webdriver.remote.webelement.WebElement (session=\"197943dfc716bc2e43df4af18ced98ed\", element=\"c95f6172-fdd6-495d-b033-027c8fc6ba66\")>, <selenium.webdriver.remote.webelement.WebElement (session=\"197943dfc716bc2e43df4af18ced98ed\", element=\"051d2153-0056-45d4-a6f9-20d41acfa23b\")>, <selenium.webdriver.remote.webelement.WebElement (session=\"197943dfc716bc2e43df4af18ced98ed\", element=\"7e538a51-9954-4a2c-abdb-1b1e6cac1a82\")>, <selenium.webdriver.remote.webelement.WebElement (session=\"197943dfc716bc2e43df4af18ced98ed\", element=\"cf4bd1d1-ebb6-46a0-80fd-09fac492aa28\")>]\n",
      "[<selenium.webdriver.remote.webelement.WebElement (session=\"197943dfc716bc2e43df4af18ced98ed\", element=\"9626f8a8-4d87-41bb-be49-8da0964bffee\")>]\n",
      "[<selenium.webdriver.remote.webelement.WebElement (session=\"197943dfc716bc2e43df4af18ced98ed\", element=\"6a72ee28-a91a-44c2-b9ec-311d69ddf6d3\")>]\n",
      "[]\n",
      "68 11\n"
     ]
    }
   ],
   "source": [
    "time_list = []\n",
    "status_list = []\n",
    "    \n",
    "try: \n",
    "    for i in range(1,7): \n",
    "        driver.find_element_by_link_text(str(i)).click()\n",
    "        try: \n",
    "            for j in range(3,70,3):\n",
    "                element = driver.find_elements_by_css_selector(\"._3Apve\")[j] #_2s4DU - 성동구 복지센터\n",
    "                ActionChains(driver).move_to_element(element).key_down(Keys.PAGE_DOWN).key_up(Keys.PAGE_DOWN).perform()\n",
    "        except:\n",
    "            pass\n",
    "\n",
    "        data2_raw = driver.find_elements_by_css_selector('._6ZZsR')\n",
    "        for data in data2_raw:\n",
    "            d = data.text\n",
    "            time_list.append(d)\n",
    "\n",
    "        # 평점 등 데이터\n",
    "        data3_raw = driver.find_elements_by_css_selector('._6ZZsR._2OfZu.RtV2P')  \n",
    "        for data in data3_raw: \n",
    "            d = data.text\n",
    "            status_list.append(d)\n",
    "            \n",
    "        print(data3_raw)\n",
    "        \n",
    "except:\n",
    "    pass\n",
    "\n",
    "\n",
    "\n",
    "print(len(time_list),len(status_list))"
   ]
  },
  {
   "cell_type": "code",
   "execution_count": 22,
   "metadata": {},
   "outputs": [
    {
     "name": "stdout",
     "output_type": "stream",
     "text": [
      "['오늘 휴무', '매주 토요일 휴무', '운영 종료', '내일 휴무', '운영 중', '20:00에 운영 종료', '오늘 휴무', '매주 토요일 휴무', '운영 중', '19:00에 운영 종료', '오늘 휴무', '매주 토요일 휴무', '운영 중', '18:00에 운영 종료', '24시간 운영', '연중무휴', '운영 중', '17:00에 운영 종료', '운영 중', '18:00에 운영 종료', '오늘 휴무', '매주 토요일 휴무', '24시간 운영', '연중무휴', '오늘 휴무', '매주 토요일 휴무', '24시간 운영', '연중무휴', '오늘 휴무', '매주 토요일 휴무', '운영 중', '19:00에 운영 종료', '오늘 휴무', '매주 토요일 휴무', '운영 중', '18:00에 운영 종료', '오늘 휴무', '매주 토요일 휴무', '오늘 휴무', '매주 토요일 휴무', '운영 중', '22:00에 운영 종료', '운영 중', '18:00에 운영 종료', '운영 중', '22:00에 운영 종료', '오늘 휴무', '매주 토요일 휴무', '24시간 운영', '연중무휴', '운영 중', '18:00에 운영 종료', '24시간 운영', '연중무휴', '운영 중', '18:00에 운영 종료', '24시간 운영', '연중무휴', '24시간 운영', '연중무휴', '24시간 운영', '연중무휴', '24시간 운영', '연중무휴', '운영 중', '18:00에 운영 종료', '운영 중', '17:00에 운영 종료']\n"
     ]
    }
   ],
   "source": [
    "print(time_list)"
   ]
  },
  {
   "cell_type": "code",
   "execution_count": 23,
   "metadata": {},
   "outputs": [
    {
     "name": "stdout",
     "output_type": "stream",
     "text": [
      "['오늘 휴무', '운영 종료', '오늘 휴무', '오늘 휴무', '오늘 휴무', '오늘 휴무', '오늘 휴무', '오늘 휴무', '오늘 휴무', '오늘 휴무', '오늘 휴무']\n"
     ]
    }
   ],
   "source": [
    "print(status_list)"
   ]
  }
 ],
 "metadata": {
  "kernelspec": {
   "display_name": "Python 3",
   "language": "python",
   "name": "python3"
  },
  "language_info": {
   "codemirror_mode": {
    "name": "ipython",
    "version": 3
   },
   "file_extension": ".py",
   "mimetype": "text/x-python",
   "name": "python",
   "nbconvert_exporter": "python",
   "pygments_lexer": "ipython3",
   "version": "3.6.13"
  }
 },
 "nbformat": 4,
 "nbformat_minor": 4
}
