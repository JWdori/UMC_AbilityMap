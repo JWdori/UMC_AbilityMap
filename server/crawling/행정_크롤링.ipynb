{
 "cells": [
  {
   "cell_type": "code",
   "execution_count": 1,
   "metadata": {},
   "outputs": [
    {
     "name": "stdout",
     "output_type": "stream",
     "text": [
      "Requirement already satisfied: selenium in /Users/jinnan_yun/opt/anaconda3/envs/mip2021/lib/python3.6/site-packages (3.141.0)\n",
      "Requirement already satisfied: urllib3 in /Users/jinnan_yun/opt/anaconda3/envs/mip2021/lib/python3.6/site-packages (from selenium) (1.26.6)\n",
      "Requirement already satisfied: chromedriver_autoinstaller in /Users/jinnan_yun/opt/anaconda3/envs/mip2021/lib/python3.6/site-packages (0.3.1)\n",
      "Requirement already satisfied: BeautifulSoup4 in /Users/jinnan_yun/opt/anaconda3/envs/mip2021/lib/python3.6/site-packages (4.11.1)\n",
      "Requirement already satisfied: soupsieve>1.2 in /Users/jinnan_yun/opt/anaconda3/envs/mip2021/lib/python3.6/site-packages (from BeautifulSoup4) (2.3.2.post1)\n"
     ]
    }
   ],
   "source": [
    "!pip3 install selenium\n",
    "!pip3 install chromedriver_autoinstaller\n",
    "!pip3 install BeautifulSoup4"
   ]
  },
  {
   "cell_type": "code",
   "execution_count": 13,
   "metadata": {},
   "outputs": [],
   "source": [
    "import os\n",
    "import time\n",
    "import sys  \n",
    "\n",
    "from selenium import webdriver \n",
    "from bs4 import BeautifulSoup\n",
    "import chromedriver_autoinstaller\n",
    "from selenium.webdriver.common.keys import Keys\n",
    "from selenium.webdriver.common.action_chains import ActionChains\n",
    "\n",
    "import warnings\n",
    "warnings.filterwarnings('ignore')\n",
    "\n",
    "from selenium.common.exceptions import ElementNotInteractableException\n",
    "from selenium.common.exceptions import NoSuchElementException\n",
    "from selenium.webdriver.common.keys import Keys"
   ]
  },
  {
   "cell_type": "code",
   "execution_count": 14,
   "metadata": {},
   "outputs": [],
   "source": [
    "#검색어 입력 \n",
    "query = '성동구 행정'"
   ]
  },
  {
   "cell_type": "code",
   "execution_count": 15,
   "metadata": {},
   "outputs": [],
   "source": [
    "#chromedriver 연결\n",
    "driver = webdriver.Chrome(\"./chromedriver\")\n",
    "driver.get(f\"https://map.naver.com/v5/search/{query}?c=14203933.7141038,4562681.4505997,10,0,0,0,dh\")"
   ]
  },
  {
   "cell_type": "code",
   "execution_count": 16,
   "metadata": {},
   "outputs": [],
   "source": [
    "driver.switch_to.frame(\"searchIframe\")"
   ]
  },
  {
   "cell_type": "code",
   "execution_count": 17,
   "metadata": {},
   "outputs": [
    {
     "name": "stdout",
     "output_type": "stream",
     "text": [
      "120 120\n"
     ]
    }
   ],
   "source": [
    "name_list = []\n",
    "addr_list = []\n",
    "\n",
    "try: \n",
    "    for i in range(1,7): \n",
    "        driver.find_element_by_link_text(str(i)).click()\n",
    "        try: \n",
    "            for j in range(3,70,3):\n",
    "                element = driver.find_elements_by_css_selector(\"._3Apve\")[j] # 성동구 관공서\n",
    "                ActionChains(driver).move_to_element(element).key_down(Keys.PAGE_DOWN).key_up(Keys.PAGE_DOWN).perform()\n",
    "        except:\n",
    "            pass\n",
    "\n",
    "        title_raw = driver.find_elements_by_css_selector(\"._3Apve\") \n",
    "        for title in title_raw:\n",
    "            title = title.text\n",
    "            name_list.append(title)\n",
    "\n",
    "        # 주소 데이터\n",
    "        data_raw = driver.find_elements_by_css_selector('._2Po-x') \n",
    "        for data in data_raw: \n",
    "            data = data.text\n",
    "            addr_list.append(data)\n",
    "        \n",
    "except:\n",
    "    pass\n",
    "\n",
    "\n",
    "print(len(name_list),len(addr_list))"
   ]
  },
  {
   "cell_type": "code",
   "execution_count": 18,
   "metadata": {},
   "outputs": [
    {
     "name": "stdout",
     "output_type": "stream",
     "text": [
      "Requirement already satisfied: openpyxl in /Users/jinnan_yun/opt/anaconda3/envs/mip2021/lib/python3.6/site-packages (3.0.10)\r\n",
      "Requirement already satisfied: et-xmlfile in /Users/jinnan_yun/opt/anaconda3/envs/mip2021/lib/python3.6/site-packages (from openpyxl) (1.1.0)\r\n"
     ]
    }
   ],
   "source": [
    "#print(name_list)\n",
    "#print(addr_list)\n",
    "!pip3 install openpyxl\n",
    "\n",
    "import pandas as pd"
   ]
  },
  {
   "cell_type": "code",
   "execution_count": 19,
   "metadata": {},
   "outputs": [
    {
     "data": {
      "text/html": [
       "<div>\n",
       "<style scoped>\n",
       "    .dataframe tbody tr th:only-of-type {\n",
       "        vertical-align: middle;\n",
       "    }\n",
       "\n",
       "    .dataframe tbody tr th {\n",
       "        vertical-align: top;\n",
       "    }\n",
       "\n",
       "    .dataframe thead th {\n",
       "        text-align: right;\n",
       "    }\n",
       "</style>\n",
       "<table border=\"1\" class=\"dataframe\">\n",
       "  <thead>\n",
       "    <tr style=\"text-align: right;\">\n",
       "      <th></th>\n",
       "      <th>name</th>\n",
       "      <th>address</th>\n",
       "    </tr>\n",
       "  </thead>\n",
       "  <tbody>\n",
       "    <tr>\n",
       "      <th>0</th>\n",
       "      <td>성동구청</td>\n",
       "      <td>서울 성동구 행당동</td>\n",
       "    </tr>\n",
       "    <tr>\n",
       "      <th>1</th>\n",
       "      <td>성동세무서</td>\n",
       "      <td>서울 성동구 송정동</td>\n",
       "    </tr>\n",
       "    <tr>\n",
       "      <th>2</th>\n",
       "      <td>성수1가1동주민센터</td>\n",
       "      <td>서울 성동구 성수동1가</td>\n",
       "    </tr>\n",
       "    <tr>\n",
       "      <th>3</th>\n",
       "      <td>성동광진고용복지플러스센터</td>\n",
       "      <td>서울 성동구 성수동2가</td>\n",
       "    </tr>\n",
       "    <tr>\n",
       "      <th>4</th>\n",
       "      <td>뚝섬우체국</td>\n",
       "      <td>서울 성동구 성수동1가</td>\n",
       "    </tr>\n",
       "    <tr>\n",
       "      <th>5</th>\n",
       "      <td>서울성동경찰서</td>\n",
       "      <td>서울 성동구 행당동</td>\n",
       "    </tr>\n",
       "    <tr>\n",
       "      <th>6</th>\n",
       "      <td>성동우체국</td>\n",
       "      <td>서울 성동구 행당동</td>\n",
       "    </tr>\n",
       "    <tr>\n",
       "      <th>7</th>\n",
       "      <td>성수2가1동주민센터</td>\n",
       "      <td>서울 성동구 성수동2가</td>\n",
       "    </tr>\n",
       "    <tr>\n",
       "      <th>8</th>\n",
       "      <td>왕십리도선동 주민센터</td>\n",
       "      <td>서울 성동구 상왕십리동</td>\n",
       "    </tr>\n",
       "    <tr>\n",
       "      <th>9</th>\n",
       "      <td>한양대학교서울캠퍼스우체국</td>\n",
       "      <td>서울 성동구 행당동</td>\n",
       "    </tr>\n",
       "    <tr>\n",
       "      <th>10</th>\n",
       "      <td>성수아파트우편취급국</td>\n",
       "      <td>서울 성동구 성수동2가</td>\n",
       "    </tr>\n",
       "    <tr>\n",
       "      <th>11</th>\n",
       "      <td>성수1가2동 주민센터</td>\n",
       "      <td>서울 성동구 성수동1가</td>\n",
       "    </tr>\n",
       "    <tr>\n",
       "      <th>12</th>\n",
       "      <td>마장동 주민센터</td>\n",
       "      <td>서울 성동구 마장동</td>\n",
       "    </tr>\n",
       "    <tr>\n",
       "      <th>13</th>\n",
       "      <td>왕십리제2동주민센터</td>\n",
       "      <td>서울 성동구 하왕십리동</td>\n",
       "    </tr>\n",
       "    <tr>\n",
       "      <th>14</th>\n",
       "      <td>왕십리우체국</td>\n",
       "      <td>서울 성동구 홍익동</td>\n",
       "    </tr>\n",
       "    <tr>\n",
       "      <th>15</th>\n",
       "      <td>금호2.3가동주민센터</td>\n",
       "      <td>서울 성동구 금호동2가</td>\n",
       "    </tr>\n",
       "    <tr>\n",
       "      <th>16</th>\n",
       "      <td>성수2가3동주민센터</td>\n",
       "      <td>서울 성동구 성수동2가</td>\n",
       "    </tr>\n",
       "    <tr>\n",
       "      <th>17</th>\n",
       "      <td>행당2동 주민센터</td>\n",
       "      <td>서울 성동구 행당동</td>\n",
       "    </tr>\n",
       "    <tr>\n",
       "      <th>18</th>\n",
       "      <td>송정동 주민센터</td>\n",
       "      <td>서울 성동구 송정동</td>\n",
       "    </tr>\n",
       "    <tr>\n",
       "      <th>19</th>\n",
       "      <td>금호동우체국</td>\n",
       "      <td>서울 성동구 금호동2가</td>\n",
       "    </tr>\n",
       "  </tbody>\n",
       "</table>\n",
       "</div>"
      ],
      "text/plain": [
       "             name       address\n",
       "0            성동구청    서울 성동구 행당동\n",
       "1           성동세무서    서울 성동구 송정동\n",
       "2      성수1가1동주민센터  서울 성동구 성수동1가\n",
       "3   성동광진고용복지플러스센터  서울 성동구 성수동2가\n",
       "4           뚝섬우체국  서울 성동구 성수동1가\n",
       "5         서울성동경찰서    서울 성동구 행당동\n",
       "6           성동우체국    서울 성동구 행당동\n",
       "7      성수2가1동주민센터  서울 성동구 성수동2가\n",
       "8     왕십리도선동 주민센터  서울 성동구 상왕십리동\n",
       "9   한양대학교서울캠퍼스우체국    서울 성동구 행당동\n",
       "10     성수아파트우편취급국  서울 성동구 성수동2가\n",
       "11    성수1가2동 주민센터  서울 성동구 성수동1가\n",
       "12       마장동 주민센터    서울 성동구 마장동\n",
       "13     왕십리제2동주민센터  서울 성동구 하왕십리동\n",
       "14         왕십리우체국    서울 성동구 홍익동\n",
       "15    금호2.3가동주민센터  서울 성동구 금호동2가\n",
       "16     성수2가3동주민센터  서울 성동구 성수동2가\n",
       "17      행당2동 주민센터    서울 성동구 행당동\n",
       "18       송정동 주민센터    서울 성동구 송정동\n",
       "19         금호동우체국  서울 성동구 금호동2가"
      ]
     },
     "execution_count": 19,
     "metadata": {},
     "output_type": "execute_result"
    }
   ],
   "source": [
    "## 데이터 프레임 만들기\n",
    "df = pd.DataFrame({'name':name_list, 'address':addr_list})\n",
    "#df = pd.DataFrame({'title':title_list})\n",
    "df[:20]"
   ]
  },
  {
   "cell_type": "code",
   "execution_count": 20,
   "metadata": {},
   "outputs": [
    {
     "data": {
      "text/plain": [
       "10    서울 성동구 성수동2가\n",
       "11    서울 성동구 성수동1가\n",
       "12      서울 성동구 마장동\n",
       "13    서울 성동구 하왕십리동\n",
       "14      서울 성동구 홍익동\n",
       "15    서울 성동구 금호동2가\n",
       "Name: address, dtype: object"
      ]
     },
     "execution_count": 20,
     "metadata": {},
     "output_type": "execute_result"
    }
   ],
   "source": [
    "df['address'][10:16]"
   ]
  },
  {
   "cell_type": "code",
   "execution_count": 21,
   "metadata": {},
   "outputs": [],
   "source": [
    "#csv로 저장\n",
    "import openpyxl\n",
    "\n",
    "df.to_excel('location3_행정.xlsx')"
   ]
  },
  {
   "cell_type": "code",
   "execution_count": null,
   "metadata": {},
   "outputs": [],
   "source": []
  }
 ],
 "metadata": {
  "kernelspec": {
   "display_name": "Python 3",
   "language": "python",
   "name": "python3"
  },
  "language_info": {
   "codemirror_mode": {
    "name": "ipython",
    "version": 3
   },
   "file_extension": ".py",
   "mimetype": "text/x-python",
   "name": "python",
   "nbconvert_exporter": "python",
   "pygments_lexer": "ipython3",
   "version": "3.6.13"
  }
 },
 "nbformat": 4,
 "nbformat_minor": 4
}
